{
  "nbformat": 4,
  "nbformat_minor": 5,
  "metadata": {
    "kernelspec": {
      "display_name": "Python 3",
      "language": "python",
      "name": "python3"
    },
    "language_info": {
      "codemirror_mode": {
        "name": "ipython",
        "version": 3
      },
      "file_extension": ".py",
      "mimetype": "text/x-python",
      "name": "python",
      "nbconvert_exporter": "python",
      "pygments_lexer": "ipython3",
      "version": "3.8.7"
    },
    "colab": {
      "name": "Trabalho Final - Deep Learning - Análise de Sentimentos.ipynb",
      "provenance": [],
      "collapsed_sections": []
    },
    "accelerator": "GPU"
  },
  "cells": [
    {
      "cell_type": "markdown",
      "metadata": {
        "id": "omtMl3UrQoJ-"
      },
      "source": [
        "# Trabalho Final - Deep Learning - Análise de Sentimentos\n",
        "\n",
        "**FURB - Data Science - Turma 02**<br>\n",
        "**Aluno:** Felipe Eduardo Gomes <br>\n",
        "**Baseado no projeto:** https://www.kaggle.com/arunmohan003/sentiment-analysis-using-lstm-pytorch\n",
        "\n",
        "---\n",
        "\n"
      ],
      "id": "omtMl3UrQoJ-"
    },
    {
      "cell_type": "markdown",
      "metadata": {
        "id": "94471057"
      },
      "source": [
        "### Classificação de textos para análise de sentimentos\n",
        "\n",
        "Base de dados \n",
        "\n",
        "Instruções:\n",
        "- O objetivo deste trabalho é criar um modelo binário de aprendizado de máquina para classificação de textos. \n",
        "Para isso, será utilizado a base de dados [IMDb](http://ai.stanford.edu/~amaas/data/sentiment/), que consiste de dados textuais de críticas positivas e negativas de filmes\n",
        "- Uma vez treinado, o modelo deve ter uma função `predict` que recebe uma string como parâmetro e retorna o valor 1 ou 0, aonde 1 significa uma crítica positiva e 0 uma crítica negativa\n",
        "- O pré-processamento pode ser desenvolvidado conforme desejar (ex.: remoção de stopwords, word embedding, one-hot encoding, char encoding)\n",
        "- É preferível que seja empregado um modelo de recorrência (ex.: rnn, lstm, gru) para a etapa de classificação\n",
        "- Documente o código (explique sucintamente o que cada função faz, insira comentários em trechos de código relevantes)\n",
        "- **Atenção**: Uma vez treinado o modelo final, salve-o no diretório do seu projeto e crie uma célula ao final do notebook contendo uma função de leitura deste arquivo, juntamente com a execução da função `predict`\n",
        "\n",
        "Sugestões:\n",
        "- Explorar a base de dados nas células iniciais do notebook para ter um melhor entendimento do problema, distribuição dos dados, etc\n",
        "- Após desenvolver a estrutura de classificação, é indicado fazer uma busca de hiperparâmetros e comparar os resultados obtidos em diferentes situações\n",
        "\n",
        "Prazo de entrega:\n",
        "- 01-08-2021 às 23:59hs GMT-3\n",
        "\n",
        "Formato preferível de entrega:\n",
        "- Postar no portal Ava da disciplina o link do projeto no github (ou anexar o projeto diretamente no portal Ava)\n",
        "\n",
        "luann.porfirio@gmail.com"
      ],
      "id": "94471057"
    },
    {
      "cell_type": "markdown",
      "metadata": {
        "id": "qN1v_AvCShrn"
      },
      "source": [
        "###Imports de biblioteca e verificação de dispositivo de hardware"
      ],
      "id": "qN1v_AvCShrn"
    },
    {
      "cell_type": "code",
      "metadata": {
        "ExecuteTime": {
          "end_time": "2021-06-10T00:36:57.559764Z",
          "start_time": "2021-06-10T00:36:52.638020Z"
        },
        "colab": {
          "base_uri": "https://localhost:8080/"
        },
        "id": "2577de36",
        "outputId": "2a7df02b-a1fc-46f7-e7f8-09d91b58c44b"
      },
      "source": [
        "!pip install torchtext"
      ],
      "id": "2577de36",
      "execution_count": 1,
      "outputs": [
        {
          "output_type": "stream",
          "text": [
            "Requirement already satisfied: torchtext in /usr/local/lib/python3.7/dist-packages (0.10.0)\n",
            "Requirement already satisfied: torch==1.9.0 in /usr/local/lib/python3.7/dist-packages (from torchtext) (1.9.0+cu102)\n",
            "Requirement already satisfied: tqdm in /usr/local/lib/python3.7/dist-packages (from torchtext) (4.41.1)\n",
            "Requirement already satisfied: numpy in /usr/local/lib/python3.7/dist-packages (from torchtext) (1.19.5)\n",
            "Requirement already satisfied: requests in /usr/local/lib/python3.7/dist-packages (from torchtext) (2.23.0)\n",
            "Requirement already satisfied: typing-extensions in /usr/local/lib/python3.7/dist-packages (from torch==1.9.0->torchtext) (3.7.4.3)\n",
            "Requirement already satisfied: urllib3!=1.25.0,!=1.25.1,<1.26,>=1.21.1 in /usr/local/lib/python3.7/dist-packages (from requests->torchtext) (1.24.3)\n",
            "Requirement already satisfied: idna<3,>=2.5 in /usr/local/lib/python3.7/dist-packages (from requests->torchtext) (2.10)\n",
            "Requirement already satisfied: certifi>=2017.4.17 in /usr/local/lib/python3.7/dist-packages (from requests->torchtext) (2021.5.30)\n",
            "Requirement already satisfied: chardet<4,>=3.0.2 in /usr/local/lib/python3.7/dist-packages (from requests->torchtext) (3.0.4)\n"
          ],
          "name": "stdout"
        }
      ]
    },
    {
      "cell_type": "code",
      "metadata": {
        "ExecuteTime": {
          "end_time": "2021-06-10T00:44:12.514627Z",
          "start_time": "2021-06-10T00:44:12.509125Z"
        },
        "colab": {
          "base_uri": "https://localhost:8080/"
        },
        "id": "a80224ad",
        "outputId": "b7c145c5-302f-4e8f-c520-06f2d7d796b1"
      },
      "source": [
        "import pandas as pd\n",
        "import numpy as np\n",
        "import torch\n",
        "import torch.nn as nn\n",
        "import torch.nn.functional as F\n",
        "from torchtext import datasets\n",
        "from nltk.corpus import stopwords \n",
        "from collections import Counter\n",
        "from sklearn.model_selection import train_test_split\n",
        "import string\n",
        "import re\n",
        "import seaborn as sns\n",
        "from tqdm import tqdm\n",
        "import matplotlib.pyplot as plt\n",
        "from torch.utils.data import TensorDataset, DataLoader\n",
        "import nltk\n",
        "\n",
        "nltk.download('stopwords')"
      ],
      "id": "a80224ad",
      "execution_count": 2,
      "outputs": [
        {
          "output_type": "stream",
          "text": [
            "[nltk_data] Downloading package stopwords to /root/nltk_data...\n",
            "[nltk_data]   Unzipping corpora/stopwords.zip.\n"
          ],
          "name": "stdout"
        },
        {
          "output_type": "execute_result",
          "data": {
            "text/plain": [
              "True"
            ]
          },
          "metadata": {
            "tags": []
          },
          "execution_count": 2
        }
      ]
    },
    {
      "cell_type": "code",
      "metadata": {
        "colab": {
          "base_uri": "https://localhost:8080/"
        },
        "id": "3arh3ubbZU7t",
        "outputId": "2820a5bc-50f2-432f-c732-9d0e6dfcadfa"
      },
      "source": [
        "if torch.cuda.is_available():\n",
        "  device = torch.device('cuda')\n",
        "else:\n",
        "  device = torch.device('cpu')\n",
        "\n",
        "print('Using {} device'.format(device))"
      ],
      "id": "3arh3ubbZU7t",
      "execution_count": 3,
      "outputs": [
        {
          "output_type": "stream",
          "text": [
            "Using cuda device\n"
          ],
          "name": "stdout"
        }
      ]
    },
    {
      "cell_type": "markdown",
      "metadata": {
        "id": "cy2IbR0DlKOv"
      },
      "source": [
        "### Ativar o Google Drive\n"
      ],
      "id": "cy2IbR0DlKOv"
    },
    {
      "cell_type": "code",
      "metadata": {
        "colab": {
          "base_uri": "https://localhost:8080/"
        },
        "id": "OWm1Do2_lKjL",
        "outputId": "b189b874-4461-42b7-f2ea-342b9786e1b7"
      },
      "source": [
        "from google.colab import drive\n",
        "drive.mount('/content/drive')"
      ],
      "id": "OWm1Do2_lKjL",
      "execution_count": 4,
      "outputs": [
        {
          "output_type": "stream",
          "text": [
            "Mounted at /content/drive\n"
          ],
          "name": "stdout"
        }
      ]
    },
    {
      "cell_type": "markdown",
      "metadata": {
        "id": "wI8xTawnSUuB"
      },
      "source": [
        "### Carregar banco de dados e dividir o dataset em treino e teste."
      ],
      "id": "wI8xTawnSUuB"
    },
    {
      "cell_type": "code",
      "metadata": {
        "ExecuteTime": {
          "end_time": "2021-06-10T00:50:27.424355Z",
          "start_time": "2021-06-10T00:49:16.448387Z"
        },
        "id": "907e3626",
        "colab": {
          "base_uri": "https://localhost:8080/"
        },
        "outputId": "d6a971b7-2f4f-4e9e-9d52-0dcfcef1d435"
      },
      "source": [
        "train_iter, test_iter = datasets.IMDB()\n",
        "ds_imdb = list(train_iter + test_iter)"
      ],
      "id": "907e3626",
      "execution_count": 5,
      "outputs": [
        {
          "output_type": "stream",
          "text": [
            "aclImdb_v1.tar.gz: 100%|██████████| 84.1M/84.1M [00:00<00:00, 94.7MB/s]\n"
          ],
          "name": "stderr"
        }
      ]
    },
    {
      "cell_type": "markdown",
      "metadata": {
        "id": "-v3DZhBIW09z"
      },
      "source": [
        "###Carregar o dataset para um Dataframe (Pandas)"
      ],
      "id": "-v3DZhBIW09z"
    },
    {
      "cell_type": "code",
      "metadata": {
        "id": "wHn9NDk4Xc9Z"
      },
      "source": [
        "df = pd.DataFrame(data=ds_imdb, columns=['sentiment', 'review'])"
      ],
      "id": "wHn9NDk4Xc9Z",
      "execution_count": 6,
      "outputs": []
    },
    {
      "cell_type": "markdown",
      "metadata": {
        "id": "RIXO_rQqW6pT"
      },
      "source": [
        "###Exibe a estrutura do dataframe"
      ],
      "id": "RIXO_rQqW6pT"
    },
    {
      "cell_type": "code",
      "metadata": {
        "colab": {
          "base_uri": "https://localhost:8080/",
          "height": 204
        },
        "id": "DgAxYXV1W7CT",
        "outputId": "2702f0e2-d414-498e-f607-10c958c96619"
      },
      "source": [
        "df.head()"
      ],
      "id": "DgAxYXV1W7CT",
      "execution_count": 7,
      "outputs": [
        {
          "output_type": "execute_result",
          "data": {
            "text/html": [
              "<div>\n",
              "<style scoped>\n",
              "    .dataframe tbody tr th:only-of-type {\n",
              "        vertical-align: middle;\n",
              "    }\n",
              "\n",
              "    .dataframe tbody tr th {\n",
              "        vertical-align: top;\n",
              "    }\n",
              "\n",
              "    .dataframe thead th {\n",
              "        text-align: right;\n",
              "    }\n",
              "</style>\n",
              "<table border=\"1\" class=\"dataframe\">\n",
              "  <thead>\n",
              "    <tr style=\"text-align: right;\">\n",
              "      <th></th>\n",
              "      <th>sentiment</th>\n",
              "      <th>review</th>\n",
              "    </tr>\n",
              "  </thead>\n",
              "  <tbody>\n",
              "    <tr>\n",
              "      <th>0</th>\n",
              "      <td>neg</td>\n",
              "      <td>I rented I AM CURIOUS-YELLOW from my video sto...</td>\n",
              "    </tr>\n",
              "    <tr>\n",
              "      <th>1</th>\n",
              "      <td>neg</td>\n",
              "      <td>\"I Am Curious: Yellow\" is a risible and preten...</td>\n",
              "    </tr>\n",
              "    <tr>\n",
              "      <th>2</th>\n",
              "      <td>neg</td>\n",
              "      <td>If only to avoid making this type of film in t...</td>\n",
              "    </tr>\n",
              "    <tr>\n",
              "      <th>3</th>\n",
              "      <td>neg</td>\n",
              "      <td>This film was probably inspired by Godard's Ma...</td>\n",
              "    </tr>\n",
              "    <tr>\n",
              "      <th>4</th>\n",
              "      <td>neg</td>\n",
              "      <td>Oh, brother...after hearing about this ridicul...</td>\n",
              "    </tr>\n",
              "  </tbody>\n",
              "</table>\n",
              "</div>"
            ],
            "text/plain": [
              "  sentiment                                             review\n",
              "0       neg  I rented I AM CURIOUS-YELLOW from my video sto...\n",
              "1       neg  \"I Am Curious: Yellow\" is a risible and preten...\n",
              "2       neg  If only to avoid making this type of film in t...\n",
              "3       neg  This film was probably inspired by Godard's Ma...\n",
              "4       neg  Oh, brother...after hearing about this ridicul..."
            ]
          },
          "metadata": {
            "tags": []
          },
          "execution_count": 7
        }
      ]
    },
    {
      "cell_type": "markdown",
      "metadata": {
        "id": "ksP2vPlDYCE8"
      },
      "source": [
        "###Informações do Dataset"
      ],
      "id": "ksP2vPlDYCE8"
    },
    {
      "cell_type": "code",
      "metadata": {
        "colab": {
          "base_uri": "https://localhost:8080/"
        },
        "id": "PME__XZzYCZT",
        "outputId": "05abce47-3f0e-4a30-8363-c1666e0224eb"
      },
      "source": [
        "df.info()"
      ],
      "id": "PME__XZzYCZT",
      "execution_count": 8,
      "outputs": [
        {
          "output_type": "stream",
          "text": [
            "<class 'pandas.core.frame.DataFrame'>\n",
            "RangeIndex: 50000 entries, 0 to 49999\n",
            "Data columns (total 2 columns):\n",
            " #   Column     Non-Null Count  Dtype \n",
            "---  ------     --------------  ----- \n",
            " 0   sentiment  50000 non-null  object\n",
            " 1   review     50000 non-null  object\n",
            "dtypes: object(2)\n",
            "memory usage: 781.4+ KB\n"
          ],
          "name": "stdout"
        }
      ]
    },
    {
      "cell_type": "markdown",
      "metadata": {
        "id": "rHU9x8-GYbbI"
      },
      "source": [
        "###Exibe o resumo do Dataset"
      ],
      "id": "rHU9x8-GYbbI"
    },
    {
      "cell_type": "code",
      "metadata": {
        "colab": {
          "base_uri": "https://localhost:8080/",
          "height": 173
        },
        "id": "88m3WfJ9YbuG",
        "outputId": "dd96b219-55af-4b86-9ac8-98b7d9cf72bd"
      },
      "source": [
        "df.describe()"
      ],
      "id": "88m3WfJ9YbuG",
      "execution_count": 9,
      "outputs": [
        {
          "output_type": "execute_result",
          "data": {
            "text/html": [
              "<div>\n",
              "<style scoped>\n",
              "    .dataframe tbody tr th:only-of-type {\n",
              "        vertical-align: middle;\n",
              "    }\n",
              "\n",
              "    .dataframe tbody tr th {\n",
              "        vertical-align: top;\n",
              "    }\n",
              "\n",
              "    .dataframe thead th {\n",
              "        text-align: right;\n",
              "    }\n",
              "</style>\n",
              "<table border=\"1\" class=\"dataframe\">\n",
              "  <thead>\n",
              "    <tr style=\"text-align: right;\">\n",
              "      <th></th>\n",
              "      <th>sentiment</th>\n",
              "      <th>review</th>\n",
              "    </tr>\n",
              "  </thead>\n",
              "  <tbody>\n",
              "    <tr>\n",
              "      <th>count</th>\n",
              "      <td>50000</td>\n",
              "      <td>50000</td>\n",
              "    </tr>\n",
              "    <tr>\n",
              "      <th>unique</th>\n",
              "      <td>2</td>\n",
              "      <td>49582</td>\n",
              "    </tr>\n",
              "    <tr>\n",
              "      <th>top</th>\n",
              "      <td>neg</td>\n",
              "      <td>Loved today's show!!! It was a variety and not...</td>\n",
              "    </tr>\n",
              "    <tr>\n",
              "      <th>freq</th>\n",
              "      <td>25000</td>\n",
              "      <td>5</td>\n",
              "    </tr>\n",
              "  </tbody>\n",
              "</table>\n",
              "</div>"
            ],
            "text/plain": [
              "       sentiment                                             review\n",
              "count      50000                                              50000\n",
              "unique         2                                              49582\n",
              "top          neg  Loved today's show!!! It was a variety and not...\n",
              "freq       25000                                                  5"
            ]
          },
          "metadata": {
            "tags": []
          },
          "execution_count": 9
        }
      ]
    },
    {
      "cell_type": "markdown",
      "metadata": {
        "id": "DcQpSeK_YkTG"
      },
      "source": [
        "###Separar os dados em treino e teste"
      ],
      "id": "DcQpSeK_YkTG"
    },
    {
      "cell_type": "code",
      "metadata": {
        "colab": {
          "base_uri": "https://localhost:8080/"
        },
        "id": "8LE8HdyXYkqC",
        "outputId": "14fe4668-a4fa-44e5-d354-2a609632b5ff"
      },
      "source": [
        "X,y = df['review'].values,df['sentiment'].values\n",
        "x_train,x_test,y_train,y_test = train_test_split(X,y,stratify=y)\n",
        "print(f'shape of train data is {x_train.shape}')\n",
        "print(f'shape of test data is {x_test.shape}')"
      ],
      "id": "8LE8HdyXYkqC",
      "execution_count": 10,
      "outputs": [
        {
          "output_type": "stream",
          "text": [
            "shape of train data is (37500,)\n",
            "shape of test data is (12500,)\n"
          ],
          "name": "stdout"
        }
      ]
    },
    {
      "cell_type": "markdown",
      "metadata": {
        "id": "-b0PtskUY7gh"
      },
      "source": [
        "###Plotar análise de sentimentos"
      ],
      "id": "-b0PtskUY7gh"
    },
    {
      "cell_type": "code",
      "metadata": {
        "colab": {
          "base_uri": "https://localhost:8080/",
          "height": 265
        },
        "id": "p4qaDBhHY8FZ",
        "outputId": "72a0fbe7-b83d-4d32-bc6b-89fe55745247"
      },
      "source": [
        "dd = pd.Series(y_train).value_counts()\n",
        "sns.barplot(x=np.array(['negative','positive']),y=dd.values)\n",
        "plt.show()"
      ],
      "id": "p4qaDBhHY8FZ",
      "execution_count": 11,
      "outputs": [
        {
          "output_type": "display_data",
          "data": {
            "image/png": "[encoded data removed]",
            "text/plain": [
              "<Figure size 432x288 with 1 Axes>"
            ]
          },
          "metadata": {
            "tags": [],
            "needs_background": "light"
          }
        }
      ]
    },
    {
      "cell_type": "markdown",
      "metadata": {
        "id": "FYwQdpLda_kk"
      },
      "source": [
        "###Tratamento das strings removendo caracteres (com exceção de letras e números) e espaços em branco"
      ],
      "id": "FYwQdpLda_kk"
    },
    {
      "cell_type": "code",
      "metadata": {
        "id": "x8WTIiMba_71"
      },
      "source": [
        "def preprocess_string(s):\n",
        "    # Remove all non-word characters (everything except numbers and letters)\n",
        "    s = re.sub(r\"[^\\w\\s]\", '', s)\n",
        "    # Replace all runs of whitespaces with no space\n",
        "    s = re.sub(r\"\\s+\", '', s)\n",
        "    # replace digits with no space\n",
        "    s = re.sub(r\"\\d\", '', s)\n",
        "\n",
        "    return s"
      ],
      "id": "x8WTIiMba_71",
      "execution_count": 12,
      "outputs": []
    },
    {
      "cell_type": "markdown",
      "metadata": {
        "id": "ujXGQUYjba3g"
      },
      "source": [
        "###Tokenização de palavras removendo stopwords"
      ],
      "id": "ujXGQUYjba3g"
    },
    {
      "cell_type": "code",
      "metadata": {
        "id": "ET6VGYwAbeqb"
      },
      "source": [
        "def tockenize(x_train,y_train,x_val,y_val):\n",
        "    word_list = []\n",
        "\n",
        "    stop_words = set(stopwords.words('english')) \n",
        "    for sent in x_train:\n",
        "        for word in sent.lower().split():\n",
        "            word = preprocess_string(word)\n",
        "            if word not in stop_words and word != '':\n",
        "                word_list.append(word)\n",
        "  \n",
        "    corpus = Counter(word_list)\n",
        "    # sorting on the basis of most common words\n",
        "    corpus_ = sorted(corpus,key=corpus.get,reverse=True)[:1000]\n",
        "    # creating a dict\n",
        "    onehot_dict = {w:i+1 for i,w in enumerate(corpus_)}\n",
        "    \n",
        "    # tockenize\n",
        "    final_list_train,final_list_test = [],[]\n",
        "    for sent in x_train:\n",
        "            final_list_train.append([onehot_dict[preprocess_string(word)] for word in sent.lower().split() \n",
        "                                     if preprocess_string(word) in onehot_dict.keys()])\n",
        "    for sent in x_val:\n",
        "            final_list_test.append([onehot_dict[preprocess_string(word)] for word in sent.lower().split() \n",
        "                                    if preprocess_string(word) in onehot_dict.keys()])\n",
        "            \n",
        "    encoded_train = [1 if label =='positive' else 0 for label in y_train]  \n",
        "    encoded_test = [1 if label =='positive' else 0 for label in y_val] \n",
        "    return np.array(final_list_train), np.array(encoded_train),np.array(final_list_test), np.array(encoded_test),onehot_dict"
      ],
      "id": "ET6VGYwAbeqb",
      "execution_count": 13,
      "outputs": []
    },
    {
      "cell_type": "code",
      "metadata": {
        "colab": {
          "base_uri": "https://localhost:8080/"
        },
        "id": "-3ihNZ6Kb5FK",
        "outputId": "7ae2068f-846b-45c8-ebd2-0a9f247b661e"
      },
      "source": [
        "x_train,y_train,x_test,y_test,vocab = tockenize(x_train,y_train,x_test,y_test)"
      ],
      "id": "-3ihNZ6Kb5FK",
      "execution_count": 14,
      "outputs": [
        {
          "output_type": "stream",
          "text": [
            "/usr/local/lib/python3.7/dist-packages/ipykernel_launcher.py:28: VisibleDeprecationWarning: Creating an ndarray from ragged nested sequences (which is a list-or-tuple of lists-or-tuples-or ndarrays with different lengths or shapes) is deprecated. If you meant to do this, you must specify 'dtype=object' when creating the ndarray\n"
          ],
          "name": "stderr"
        }
      ]
    },
    {
      "cell_type": "markdown",
      "metadata": {
        "id": "SPWnZwVpcFsd"
      },
      "source": [
        "###Imprimir tamanho do vocabulário"
      ],
      "id": "SPWnZwVpcFsd"
    },
    {
      "cell_type": "code",
      "metadata": {
        "colab": {
          "base_uri": "https://localhost:8080/"
        },
        "id": "kcp1Am8UcGMb",
        "outputId": "f2838644-fa64-457a-dd57-c717f3bf9f1b"
      },
      "source": [
        "print(f'Length of vocabulary is {len(vocab)}')"
      ],
      "id": "kcp1Am8UcGMb",
      "execution_count": 15,
      "outputs": [
        {
          "output_type": "stream",
          "text": [
            "Length of vocabulary is 1000\n"
          ],
          "name": "stdout"
        }
      ]
    },
    {
      "cell_type": "markdown",
      "metadata": {
        "id": "MNZzuPXQcPbF"
      },
      "source": [
        "###Analisando tamanho do review"
      ],
      "id": "MNZzuPXQcPbF"
    },
    {
      "cell_type": "code",
      "metadata": {
        "colab": {
          "base_uri": "https://localhost:8080/",
          "height": 418
        },
        "id": "DVJdWi9EcQb5",
        "outputId": "c6a3d1fe-de82-4ee1-eba3-791b47d1db01"
      },
      "source": [
        "rev_len = [len(i) for i in x_train]\n",
        "pd.Series(rev_len).hist()\n",
        "plt.show()\n",
        "pd.Series(rev_len).describe()"
      ],
      "id": "DVJdWi9EcQb5",
      "execution_count": 16,
      "outputs": [
        {
          "output_type": "display_data",
          "data": {
            "image/png": "[encoded data removed]",
            "text/plain": [
              "<Figure size 432x288 with 1 Axes>"
            ]
          },
          "metadata": {
            "tags": [],
            "needs_background": "light"
          }
        },
        {
          "output_type": "execute_result",
          "data": {
            "text/plain": [
              "count    37500.000000\n",
              "mean        69.080693\n",
              "std         47.958646\n",
              "min          0.000000\n",
              "25%         39.000000\n",
              "50%         54.000000\n",
              "75%         84.000000\n",
              "max        653.000000\n",
              "dtype: float64"
            ]
          },
          "metadata": {
            "tags": []
          },
          "execution_count": 16
        }
      ]
    },
    {
      "cell_type": "markdown",
      "metadata": {
        "id": "PGMK71KCcevO"
      },
      "source": [
        "###Padding - Preenche as sequencias até o máximo de comprimento"
      ],
      "id": "PGMK71KCcevO"
    },
    {
      "cell_type": "code",
      "metadata": {
        "id": "2UILCUVScfLo"
      },
      "source": [
        "def padding_(sentences, seq_len):\n",
        "    features = np.zeros((len(sentences), seq_len),dtype=int)\n",
        "    for ii, review in enumerate(sentences):\n",
        "        if len(review) != 0:\n",
        "            features[ii, -len(review):] = np.array(review)[:seq_len]\n",
        "    return features"
      ],
      "id": "2UILCUVScfLo",
      "execution_count": 17,
      "outputs": []
    },
    {
      "cell_type": "markdown",
      "metadata": {
        "id": "AUx7l4hIcv1o"
      },
      "source": [
        "###Temos um número muito pequeno de reviews com tamanho maior que 500. Iremos considerar somente os reviews abaixo desta quantidade."
      ],
      "id": "AUx7l4hIcv1o"
    },
    {
      "cell_type": "code",
      "metadata": {
        "id": "SCJozyMNcwLr"
      },
      "source": [
        "x_train_pad = padding_(x_train,500)\n",
        "x_test_pad = padding_(x_test,500)"
      ],
      "id": "SCJozyMNcwLr",
      "execution_count": 18,
      "outputs": []
    },
    {
      "cell_type": "markdown",
      "metadata": {
        "id": "_RKDvsNgdM0m"
      },
      "source": [
        "###Definindo os lotes e carregando como tensor"
      ],
      "id": "_RKDvsNgdM0m"
    },
    {
      "cell_type": "code",
      "metadata": {
        "id": "DT_EHoT2dNJ7"
      },
      "source": [
        "# Criando Tensor datasets\n",
        "train_data = TensorDataset(torch.from_numpy(x_train_pad), torch.from_numpy(y_train))\n",
        "valid_data = TensorDataset(torch.from_numpy(x_test_pad), torch.from_numpy(y_test))\n",
        "\n",
        "# dataloaders\n",
        "batch_size = 50\n",
        "\n",
        "# Embaralhando os dados\n",
        "train_loader = DataLoader(train_data, shuffle=True, batch_size=batch_size)\n",
        "valid_loader = DataLoader(valid_data, shuffle=True, batch_size=batch_size)"
      ],
      "id": "DT_EHoT2dNJ7",
      "execution_count": 19,
      "outputs": []
    },
    {
      "cell_type": "markdown",
      "metadata": {
        "id": "EQorw85Bdnwm"
      },
      "source": [
        "### Obtendo um lote de dados de treino"
      ],
      "id": "EQorw85Bdnwm"
    },
    {
      "cell_type": "code",
      "metadata": {
        "colab": {
          "base_uri": "https://localhost:8080/"
        },
        "id": "xQocChXOdoIg",
        "outputId": "fa78e0c5-0aba-4a86-c862-fa188205f620"
      },
      "source": [
        "dataiter = iter(train_loader)\n",
        "sample_x, sample_y = dataiter.next()\n",
        "\n",
        "print('Sample input size: ', sample_x.size()) # batch_size, seq_length\n",
        "print('Sample input: \\n', sample_x)\n",
        "print('Sample input: \\n', sample_y)"
      ],
      "id": "xQocChXOdoIg",
      "execution_count": 20,
      "outputs": [
        {
          "output_type": "stream",
          "text": [
            "Sample input size:  torch.Size([50, 500])\n",
            "Sample input: \n",
            " tensor([[  0,   0,   0,  ...,  11,   2, 236],\n",
            "        [  0,   0,   0,  ..., 374,   3, 416],\n",
            "        [  0,   0,   0,  ...,  35,  15,  55],\n",
            "        ...,\n",
            "        [  0,   0,   0,  ..., 234, 410, 503],\n",
            "        [  0,   0,   0,  ...,   1, 286,   1],\n",
            "        [  0,   0,   0,  ...,   8,  15, 550]])\n",
            "Sample input: \n",
            " tensor([0, 0, 0, 0, 0, 0, 0, 0, 0, 0, 0, 0, 0, 0, 0, 0, 0, 0, 0, 0, 0, 0, 0, 0,\n",
            "        0, 0, 0, 0, 0, 0, 0, 0, 0, 0, 0, 0, 0, 0, 0, 0, 0, 0, 0, 0, 0, 0, 0, 0,\n",
            "        0, 0])\n"
          ],
          "name": "stdout"
        }
      ]
    },
    {
      "cell_type": "markdown",
      "metadata": {
        "id": "pcCtqKVIeSzJ"
      },
      "source": [
        "Precisamos adicionar uma camada de incorporação porque há poucas palavras em nosso vocabulário. É extremamente ineficiente para codificar one-hot tantas classes. Portanto, em vez de codificação one-hot, podemos ter uma camada de incorporação e usar essa camada como uma tabela de pesquisa. É possível treinar uma camada de incorporação usando Word2Vec e carregá-la aqui. Mas não há problema em apenas fazer uma nova camada, usando-a apenas para redução de dimensionalidade, e deixar a rede aprender os pesos. "
      ],
      "id": "pcCtqKVIeSzJ"
    },
    {
      "cell_type": "markdown",
      "metadata": {
        "id": "2hj7ZEW5esiT"
      },
      "source": [
        "### Implementando o Modelo"
      ],
      "id": "2hj7ZEW5esiT"
    },
    {
      "cell_type": "code",
      "metadata": {
        "id": "CBBkNGsWes0C"
      },
      "source": [
        "class SentimentRNN(nn.Module):\n",
        "    def __init__(self,no_layers,vocab_size,hidden_dim,embedding_dim,drop_prob=0.5):\n",
        "        super(SentimentRNN,self).__init__()\n",
        " \n",
        "        self.output_dim = output_dim\n",
        "        self.hidden_dim = hidden_dim\n",
        " \n",
        "        self.no_layers = no_layers\n",
        "        self.vocab_size = vocab_size\n",
        "    \n",
        "        # embedding e camadas LSTM\n",
        "        self.embedding = nn.Embedding(vocab_size, embedding_dim)\n",
        "        \n",
        "        #lstm\n",
        "        self.lstm = nn.LSTM(input_size=embedding_dim,hidden_size=self.hidden_dim,\n",
        "                           num_layers=no_layers, batch_first=True)\n",
        "        \n",
        "        \n",
        "        # camada dropout\n",
        "        self.dropout = nn.Dropout(0.3)\n",
        "    \n",
        "        # camada linear e sigmoid\n",
        "        self.fc = nn.Linear(self.hidden_dim, output_dim)\n",
        "        self.sig = nn.Sigmoid()\n",
        "        \n",
        "    def forward(self,x,hidden):\n",
        "        batch_size = x.size(0)\n",
        "        # embeddings e lstm_out\n",
        "        embeds = self.embedding(x)  # shape: B x S x Feature   since batch = True\n",
        "        #print(embeds.shape)  #[50, 500, 1000]\n",
        "        lstm_out, hidden = self.lstm(embeds, hidden)\n",
        "        \n",
        "        lstm_out = lstm_out.contiguous().view(-1, self.hidden_dim) \n",
        "        \n",
        "        # dropout e camada totalmente conectada\n",
        "        out = self.dropout(lstm_out)\n",
        "        out = self.fc(out)\n",
        "        \n",
        "        # função sigmoid\n",
        "        sig_out = self.sig(out)\n",
        "        \n",
        "        # reshape para batch_size primeirp\n",
        "        sig_out = sig_out.view(batch_size, -1)\n",
        "\n",
        "        sig_out = sig_out[:, -1] # pegar último batch de labels\n",
        "        \n",
        "        # retornar última saída sigmoid e hidden state\n",
        "        return sig_out, hidden\n",
        "        \n",
        "        \n",
        "        \n",
        "    def init_hidden(self, batch_size):\n",
        "        ''' Initializes hidden state '''\n",
        "        # Criar dois novos tensors com tamanhos n_layers x batch_size x hidden_dim,\n",
        "        # Inicializado com zero, para hidden state e cell state do LSTM\n",
        "        h0 = torch.zeros((self.no_layers,batch_size,self.hidden_dim)).to(device)\n",
        "        c0 = torch.zeros((self.no_layers,batch_size,self.hidden_dim)).to(device)\n",
        "        hidden = (h0,c0)\n",
        "        return hidden"
      ],
      "id": "CBBkNGsWes0C",
      "execution_count": 21,
      "outputs": []
    },
    {
      "cell_type": "code",
      "metadata": {
        "colab": {
          "base_uri": "https://localhost:8080/"
        },
        "id": "oC7ek8V-fuBI",
        "outputId": "359cb79e-fb63-4789-88d3-984a94b78a19"
      },
      "source": [
        "no_layers = 2\n",
        "vocab_size = len(vocab) + 1 # 1 extra para padding\n",
        "embedding_dim = 64\n",
        "output_dim = 1\n",
        "hidden_dim = 256\n",
        "\n",
        "\n",
        "model = SentimentRNN(no_layers,vocab_size,hidden_dim,embedding_dim,drop_prob=0.5)\n",
        "\n",
        "# Processar na GPU se estiver disponível\n",
        "model.to(device)\n",
        "\n",
        "print(model)"
      ],
      "id": "oC7ek8V-fuBI",
      "execution_count": 22,
      "outputs": [
        {
          "output_type": "stream",
          "text": [
            "SentimentRNN(\n",
            "  (embedding): Embedding(1001, 64)\n",
            "  (lstm): LSTM(64, 256, num_layers=2, batch_first=True)\n",
            "  (dropout): Dropout(p=0.3, inplace=False)\n",
            "  (fc): Linear(in_features=256, out_features=1, bias=True)\n",
            "  (sig): Sigmoid()\n",
            ")\n"
          ],
          "name": "stdout"
        }
      ]
    },
    {
      "cell_type": "markdown",
      "metadata": {
        "id": "lDFF0-ZfhQYW"
      },
      "source": [
        "###Hiperparâmetros"
      ],
      "id": "lDFF0-ZfhQYW"
    },
    {
      "cell_type": "code",
      "metadata": {
        "id": "BnM0AFQWhNca"
      },
      "source": [
        "lr=0.001 # Funções de perda e otimização\n",
        "clip = 5\n",
        "epochs = 5 # Épocas"
      ],
      "id": "BnM0AFQWhNca",
      "execution_count": 23,
      "outputs": []
    },
    {
      "cell_type": "markdown",
      "metadata": {
        "id": "r-USJMJYgb0o"
      },
      "source": [
        "###Treinando"
      ],
      "id": "r-USJMJYgb0o"
    },
    {
      "cell_type": "code",
      "metadata": {
        "id": "YQ1ciOqlgcHb"
      },
      "source": [
        "criterion = nn.BCELoss()\n",
        "\n",
        "optimizer = torch.optim.Adam(model.parameters(), lr=lr)\n",
        "\n",
        "# Função para calcular acurácia\n",
        "def acc(pred,label):\n",
        "    pred = torch.round(pred.squeeze())\n",
        "    return torch.sum(pred == label.squeeze()).item()"
      ],
      "id": "YQ1ciOqlgcHb",
      "execution_count": 24,
      "outputs": []
    },
    {
      "cell_type": "code",
      "metadata": {
        "colab": {
          "base_uri": "https://localhost:8080/"
        },
        "id": "bRBFLhZVguTj",
        "outputId": "88e5d828-595b-4e20-a240-629f77e79cbc"
      },
      "source": [
        "valid_loss_min = np.Inf\n",
        "# Treinar algumas épocas\n",
        "epoch_tr_loss,epoch_vl_loss = [],[]\n",
        "epoch_tr_acc,epoch_vl_acc = [],[]\n",
        "\n",
        "for epoch in range(epochs):\n",
        "    train_losses = []\n",
        "    train_acc = 0.0\n",
        "    model.train()\n",
        "    # Inicializar o hidden state \n",
        "    h = model.init_hidden(batch_size)\n",
        "    for inputs, labels in train_loader:\n",
        "        \n",
        "        inputs, labels = inputs.to(device), labels.to(device)   \n",
        "        # Criando novas variáveis para o hidden state, caso contrário\n",
        "        # voltaríamos a propagação por todo o histórico de treinamento.\n",
        "        h = tuple([each.data for each in h])\n",
        "        \n",
        "        model.zero_grad()\n",
        "        output,h = model(inputs,h)\n",
        "        \n",
        "        # Calcular a perda e fazer o backpropagation\n",
        "        loss = criterion(output.squeeze(), labels.float())\n",
        "        loss.backward()\n",
        "        train_losses.append(loss.item())\n",
        "        # Calcular acurácia\n",
        "        accuracy = acc(output,labels)\n",
        "        train_acc += accuracy\n",
        "        #`clip_grad_norm` ajuda a prevenir o problema de gradiente explosivo em RNNs / LSTMs.\n",
        "        nn.utils.clip_grad_norm_(model.parameters(), clip)\n",
        "        optimizer.step()\n",
        " \n",
        "    \n",
        "        \n",
        "    val_h = model.init_hidden(batch_size)\n",
        "    val_losses = []\n",
        "    val_acc = 0.0\n",
        "    model.eval()\n",
        "    for inputs, labels in valid_loader:\n",
        "            val_h = tuple([each.data for each in val_h])\n",
        "\n",
        "            inputs, labels = inputs.to(device), labels.to(device)\n",
        "\n",
        "            output, val_h = model(inputs, val_h)\n",
        "            val_loss = criterion(output.squeeze(), labels.float())\n",
        "\n",
        "            val_losses.append(val_loss.item())\n",
        "            \n",
        "            accuracy = acc(output,labels)\n",
        "            val_acc += accuracy\n",
        "            \n",
        "    epoch_train_loss = np.mean(train_losses)\n",
        "    epoch_val_loss = np.mean(val_losses)\n",
        "    epoch_train_acc = train_acc/len(train_loader.dataset)\n",
        "    epoch_val_acc = val_acc/len(valid_loader.dataset)\n",
        "    epoch_tr_loss.append(epoch_train_loss)\n",
        "    epoch_vl_loss.append(epoch_val_loss)\n",
        "    epoch_tr_acc.append(epoch_train_acc)\n",
        "    epoch_vl_acc.append(epoch_val_acc)\n",
        "    print(f'Epoch {epoch+1}') \n",
        "    print(f'train_loss : {epoch_train_loss} val_loss : {epoch_val_loss}')\n",
        "    print(f'train_accuracy : {epoch_train_acc*100} val_accuracy : {epoch_val_acc*100}')\n",
        "    #if epoch_val_loss <= valid_loss_min:\n",
        "    #    torch.save(model.state_dict(), '../working/state_dict.pt')\n",
        "    #    print('Validation loss decreased ({:.6f} --> {:.6f}).  Saving model ...'.format(valid_loss_min,epoch_val_loss))\n",
        "    #    valid_loss_min = epoch_val_loss\n",
        "    print(25*'==')\n",
        "\n",
        "\n",
        "# Salvar o modelo treinado\n",
        "model_path = '/content/drive/MyDrive/FURB/trabalho_deep_learning_state_dict.pt'\n",
        "torch.save(model.state_dict(), model_path)"
      ],
      "id": "bRBFLhZVguTj",
      "execution_count": 25,
      "outputs": [
        {
          "output_type": "stream",
          "text": [
            "Epoch 1\n",
            "train_loss : 0.004931729753044541 val_loss : 1.060968224919634e-05\n",
            "train_accuracy : 99.86933333333333 val_accuracy : 100.0\n",
            "==================================================\n",
            "Epoch 2\n",
            "train_loss : 7.333997688571495e-06 val_loss : 3.6358896977617405e-06\n",
            "train_accuracy : 100.0 val_accuracy : 100.0\n",
            "==================================================\n",
            "Epoch 3\n",
            "train_loss : 3.0584739018498414e-06 val_loss : 1.7881409348774469e-06\n",
            "train_accuracy : 100.0 val_accuracy : 100.0\n",
            "==================================================\n",
            "Epoch 4\n",
            "train_loss : 1.6032143166739843e-06 val_loss : 9.536747711536009e-07\n",
            "train_accuracy : 100.0 val_accuracy : 100.0\n",
            "==================================================\n",
            "Epoch 5\n",
            "train_loss : 9.357411527162185e-07 val_loss : 5.960466182841628e-07\n",
            "train_accuracy : 100.0 val_accuracy : 100.0\n",
            "==================================================\n"
          ],
          "name": "stdout"
        }
      ]
    },
    {
      "cell_type": "markdown",
      "metadata": {
        "id": "21ZDs8VfiYhw"
      },
      "source": [
        "### Plotar gráfico de Acurácia x Perda"
      ],
      "id": "21ZDs8VfiYhw"
    },
    {
      "cell_type": "code",
      "metadata": {
        "id": "DaQ20HhtiZTg",
        "colab": {
          "base_uri": "https://localhost:8080/",
          "height": 341
        },
        "outputId": "ee3ad31b-4d24-49f3-aaa3-4a136a6b002c"
      },
      "source": [
        "fig = plt.figure(figsize = (20, 6))\n",
        "plt.subplot(1, 2, 1)\n",
        "plt.plot(epoch_tr_acc, label='Train Acc')\n",
        "plt.plot(epoch_vl_acc, label='Validation Acc')\n",
        "plt.title(\"Accuracy\")\n",
        "plt.legend()\n",
        "plt.grid()\n",
        "    \n",
        "plt.subplot(1, 2, 2)\n",
        "plt.plot(epoch_tr_loss, label='Train loss')\n",
        "plt.plot(epoch_vl_loss, label='Validation loss')\n",
        "plt.title(\"Loss\")\n",
        "plt.legend()\n",
        "plt.grid()\n",
        "\n",
        "plt.show()"
      ],
      "id": "DaQ20HhtiZTg",
      "execution_count": 26,
      "outputs": [
        {
          "output_type": "display_data",
          "data": {
            "image/png": "[encoded data removed]",
            "text/plain": [
              "<Figure size 1440x432 with 2 Axes>"
            ]
          },
          "metadata": {
            "tags": [],
            "needs_background": "light"
          }
        }
      ]
    },
    {
      "cell_type": "markdown",
      "metadata": {
        "id": "5nuQsCvIjvnN"
      },
      "source": [
        "### Carregar o modelo treinado para predição"
      ],
      "id": "5nuQsCvIjvnN"
    },
    {
      "cell_type": "code",
      "metadata": {
        "id": "I5oY9FMjkC23",
        "colab": {
          "base_uri": "https://localhost:8080/"
        },
        "outputId": "de2a336b-a8d5-4aa8-d8b9-7048b1ec3d50"
      },
      "source": [
        "no_layers = 2\n",
        "vocab_size = 1000 + 1 # 1 extra para padding\n",
        "embedding_dim = 64\n",
        "output_dim = 1\n",
        "hidden_dim = 256\n",
        "\n",
        "# Cria a rede e carrega o modelo treinado.\n",
        "model = SentimentRNN(no_layers,vocab_size,hidden_dim,embedding_dim,drop_prob=0.5)\n",
        "\n",
        "model.load_state_dict(torch.load('/content/drive/MyDrive/FURB/trabalho_deep_learning_state_dict.pt'), strict=False)\n",
        "\n",
        "# Passar para GPU, se tiver\n",
        "model.to(device)"
      ],
      "id": "I5oY9FMjkC23",
      "execution_count": 32,
      "outputs": [
        {
          "output_type": "execute_result",
          "data": {
            "text/plain": [
              "SentimentRNN(\n",
              "  (embedding): Embedding(1001, 64)\n",
              "  (lstm): LSTM(64, 256, num_layers=2, batch_first=True)\n",
              "  (dropout): Dropout(p=0.3, inplace=False)\n",
              "  (fc): Linear(in_features=256, out_features=1, bias=True)\n",
              "  (sig): Sigmoid()\n",
              ")"
            ]
          },
          "metadata": {
            "tags": []
          },
          "execution_count": 32
        }
      ]
    },
    {
      "cell_type": "code",
      "metadata": {
        "id": "1fi_fUhTjv7E"
      },
      "source": [
        "def predict_text(text):\n",
        "        word_seq = np.array([vocab[preprocess_string(word)] for word in text.split() \n",
        "                         if preprocess_string(word) in vocab.keys()])\n",
        "        word_seq = np.expand_dims(word_seq,axis=0)\n",
        "        pad =  torch.from_numpy(padding_(word_seq,500))\n",
        "        inputs = pad.to(device)\n",
        "        batch_size = 1\n",
        "        h = model.init_hidden(batch_size)\n",
        "        h = tuple([each.data for each in h])\n",
        "        output, h = model(inputs, h)\n",
        "        return(output.item())"
      ],
      "id": "1fi_fUhTjv7E",
      "execution_count": 33,
      "outputs": []
    },
    {
      "cell_type": "markdown",
      "metadata": {
        "id": "_EgriiIlknkP"
      },
      "source": [
        "### Testar a predição de um elemento do dataframe, que irá retornar se o sentimento é positivo ou negativo"
      ],
      "id": "_EgriiIlknkP"
    },
    {
      "cell_type": "code",
      "metadata": {
        "id": "nEnnCQDrkn3s",
        "colab": {
          "base_uri": "https://localhost:8080/"
        },
        "outputId": "07c55226-6a68-4a7a-8b7f-69bd9ae36c34"
      },
      "source": [
        "index = 1713\n",
        "print(df['review'][index])\n",
        "print('='*70)\n",
        "print(f'Actual sentiment is  : {df[\"sentiment\"][index]}')\n",
        "print('='*70)\n",
        "pro = predict_text(df['review'][index])\n",
        "status = \"positive\" if pro > 0.5 else \"negative\"\n",
        "pro = (1 - pro) if status == \"negative\" else pro\n",
        "print(f'Predicted sentiment is {status} with a probability of {pro}')"
      ],
      "id": "nEnnCQDrkn3s",
      "execution_count": 34,
      "outputs": [
        {
          "output_type": "stream",
          "text": [
            "Well, maybe I'm just having a bad run with Hindi movies lately. I asked the video store guy for Apharan (Prakash Jha) but being a new release, wasn't available yet. So I had to settle for this one. It turned out to be the stupidest Hindi movie I've seen (and I've seen quite a few). No wonder BOllywood is the laughing stock of the whole world! If IMDb had negative ratings, I would give Garam Masala a -10.<br /><br />I remember seeing a TV show about the jazzy premiere they had for its release in Mumbai. All the usual celebs and their sideys showed up. For some strange reason, people expect good stuff from Piyadarashan. I did not like Hulchul, Hungama, or his other films. Hulchul, probably dubbed from Tamil or Telugu, came across as very loud, in-your-face fare that again didn't make much sense except in a Bollywood flick. This latest piece of utter CXXP proved that this guy has NO BRAINS. Who made him a director, even a Bollywood director at that??? <br /><br />Anyhow, to the film now. What starts off as a romantic escapade turns into a non-sensical woman-hunt. Two fashion photographers working for a magazine share an apartment (isn't it similar to No Entry where the 2 dudes work for a gossip magazine and share an office? Jezuz Christ, now they're copying their own stories!) Well anyways, there's some cook or chef that tries to help one of the dodos in his quest for multi-lateral love (aka multi-tasking + multi-timing). What happened in the end, I've no idea. I switched off mid-way. What ridiculous junk. I can't believe they even released it. And how sadistic to wallow in their own filth! For which audience did they make it - the poor illiterate Indian masses (700 Mil at last count) or the well-heeled NRI desis staying in Phoren? Either ways it doesn't matter. Neither group has any clue what makes a good movie and probably deserves such god-awful stuff.<br /><br />Its a short review because there's nothing to write about but the usual bag of F-grade garbage. Bollywood should change its name to Follywood. And yes, this review is much better than the movie itself.\n",
            "======================================================================\n",
            "Actual sentiment is  : neg\n",
            "======================================================================\n",
            "Predicted sentiment is negative with a probability of 0.9999989907693134\n"
          ],
          "name": "stdout"
        }
      ]
    }
  ]
}